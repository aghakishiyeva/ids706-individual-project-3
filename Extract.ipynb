{
 "cells": [
  {
   "cell_type": "markdown",
   "metadata": {
    "application/vnd.databricks.v1+cell": {
     "cellMetadata": {},
     "inputWidgets": {},
     "nuid": "97f61a69-b427-4826-b667-467162c1f800",
     "showTitle": false,
     "title": ""
    }
   },
   "source": [
    "# Extracting from Data Source"
   ]
  },
  {
   "cell_type": "code",
   "execution_count": 0,
   "metadata": {
    "application/vnd.databricks.v1+cell": {
     "cellMetadata": {
      "byteLimit": 2048000,
      "rowLimit": 10000
     },
     "inputWidgets": {},
     "nuid": "72d7319a-ef95-4bd0-8cce-bddc66251466",
     "showTitle": false,
     "title": ""
    }
   },
   "outputs": [
    {
     "output_type": "stream",
     "name": "stdout",
     "output_type": "stream",
     "text": [
      "+--------+-----+--------+------+-----------+\n|    date|delay|distance|origin|destination|\n+--------+-----+--------+------+-----------+\n|01011245|    6|     602|   ABE|        ATL|\n|01020600|   -8|     369|   ABE|        DTW|\n|01021245|   -2|     602|   ABE|        ATL|\n|01020605|   -4|     602|   ABE|        ATL|\n|01031245|   -4|     602|   ABE|        ATL|\n|01030605|    0|     602|   ABE|        ATL|\n|01041243|   10|     602|   ABE|        ATL|\n|01040605|   28|     602|   ABE|        ATL|\n|01051245|   88|     602|   ABE|        ATL|\n|01050605|    9|     602|   ABE|        ATL|\n|01061215|   -6|     602|   ABE|        ATL|\n|01061725|   69|     602|   ABE|        ATL|\n|01061230|    0|     369|   ABE|        DTW|\n|01060625|   -3|     602|   ABE|        ATL|\n|01070600|    0|     369|   ABE|        DTW|\n|01071725|    0|     602|   ABE|        ATL|\n|01071230|    0|     369|   ABE|        DTW|\n|01070625|    0|     602|   ABE|        ATL|\n|01071219|    0|     569|   ABE|        ORD|\n|01080600|    0|     369|   ABE|        DTW|\n+--------+-----+--------+------+-----------+\nonly showing top 20 rows\n\n"
     ]
    }
   ],
   "source": [
    "file_location = \"dbfs:/databricks-datasets/flights/\"\n",
    "file_type = \"csv\" \n",
    "\n",
    "df = spark.read.format(file_type) \\\n",
    "  .option(\"inferSchema\", \"true\") \\\n",
    "  .option(\"header\", \"true\") \\\n",
    "  .load(file_location)\n",
    "\n",
    "df.show()"
   ]
  },
  {
   "cell_type": "markdown",
   "metadata": {
    "application/vnd.databricks.v1+cell": {
     "cellMetadata": {},
     "inputWidgets": {},
     "nuid": "7801f521-f6c9-47ca-b0cf-64dfd310f5fe",
     "showTitle": false,
     "title": ""
    }
   },
   "source": [
    "# Setting Up Delta Table"
   ]
  },
  {
   "cell_type": "code",
   "execution_count": 0,
   "metadata": {
    "application/vnd.databricks.v1+cell": {
     "cellMetadata": {
      "byteLimit": 2048000,
      "rowLimit": 10000
     },
     "inputWidgets": {},
     "nuid": "d96a2ad0-5814-4e1c-82b6-b73f489fcee2",
     "showTitle": false,
     "title": ""
    }
   },
   "outputs": [
    {
     "output_type": "display_data",
     "data": {
      "text/html": [
       "<style scoped>\n",
       "  .table-result-container {\n",
       "    max-height: 300px;\n",
       "    overflow: auto;\n",
       "  }\n",
       "  table, th, td {\n",
       "    border: 1px solid black;\n",
       "    border-collapse: collapse;\n",
       "  }\n",
       "  th, td {\n",
       "    padding: 5px;\n",
       "  }\n",
       "  th {\n",
       "    text-align: left;\n",
       "  }\n",
       "</style><div class='table-result-container'><table class='table-result'><thead style='background-color: white'><tr><th>date</th><th>delay</th><th>distance</th><th>origin</th><th>destination</th></tr></thead><tbody><tr><td>03131005</td><td>-3</td><td>618</td><td>MDW</td><td>EWR</td></tr><tr><td>03132055</td><td>25</td><td>748</td><td>MDW</td><td>BOS</td></tr><tr><td>03131710</td><td>13</td><td>501</td><td>MDW</td><td>IAD</td></tr><tr><td>03130720</td><td>-5</td><td>218</td><td>MDW</td><td>STL</td></tr><tr><td>03131445</td><td>12</td><td>778</td><td>MDW</td><td>DEN</td></tr><tr><td>03131940</td><td>3</td><td>1014</td><td>MDW</td><td>FLL</td></tr><tr><td>03131525</td><td>8</td><td>405</td><td>MDW</td><td>BKG</td></tr><tr><td>03132055</td><td>27</td><td>623</td><td>MDW</td><td>ALB</td></tr><tr><td>03131320</td><td>33</td><td>266</td><td>MDW</td><td>CLE</td></tr><tr><td>03131115</td><td>-1</td><td>352</td><td>MDW</td><td>MCI</td></tr></tbody></table></div>"
      ]
     },
     "metadata": {
      "application/vnd.databricks.v1+output": {
       "addedWidgets": {},
       "aggData": [],
       "aggError": "",
       "aggOverflow": false,
       "aggSchema": [],
       "aggSeriesLimitReached": false,
       "aggType": "",
       "arguments": {},
       "columnCustomDisplayInfos": {},
       "data": [
        [
         "03131005",
         "-3",
         "618",
         "MDW",
         "EWR"
        ],
        [
         "03132055",
         "25",
         "748",
         "MDW",
         "BOS"
        ],
        [
         "03131710",
         "13",
         "501",
         "MDW",
         "IAD"
        ],
        [
         "03130720",
         "-5",
         "218",
         "MDW",
         "STL"
        ],
        [
         "03131445",
         "12",
         "778",
         "MDW",
         "DEN"
        ],
        [
         "03131940",
         "3",
         "1014",
         "MDW",
         "FLL"
        ],
        [
         "03131525",
         "8",
         "405",
         "MDW",
         "BKG"
        ],
        [
         "03132055",
         "27",
         "623",
         "MDW",
         "ALB"
        ],
        [
         "03131320",
         "33",
         "266",
         "MDW",
         "CLE"
        ],
        [
         "03131115",
         "-1",
         "352",
         "MDW",
         "MCI"
        ]
       ],
       "datasetInfos": [],
       "dbfsResultPath": null,
       "isJsonSchema": true,
       "metadata": {},
       "overflow": false,
       "plotOptions": {
        "customPlotOptions": {},
        "displayType": "table",
        "pivotAggregation": null,
        "pivotColumns": null,
        "xColumns": null,
        "yColumns": null
       },
       "removedWidgets": [],
       "schema": [
        {
         "metadata": "{}",
         "name": "date",
         "type": "\"string\""
        },
        {
         "metadata": "{}",
         "name": "delay",
         "type": "\"string\""
        },
        {
         "metadata": "{}",
         "name": "distance",
         "type": "\"string\""
        },
        {
         "metadata": "{}",
         "name": "origin",
         "type": "\"string\""
        },
        {
         "metadata": "{}",
         "name": "destination",
         "type": "\"string\""
        }
       ],
       "type": "table"
      }
     },
     "output_type": "display_data"
    }
   ],
   "source": [
    "# Define the location for the Delta table\n",
    "delta_table_path = \"/delta/flights_data\"\n",
    "\n",
    "# Write the transformed DataFrame to Delta format\n",
    "df.write.format(\"delta\") \\\n",
    "    .mode(\"overwrite\") \\\n",
    "    .option(\"overwriteSchema\", \"true\") \\\n",
    "    .save(delta_table_path)\n",
    "\n",
    "# Register the Delta table as a temporary view\n",
    "spark.read.format(\"delta\").load(delta_table_path).createOrReplaceTempView(\"flights_data\")\n",
    "\n",
    "# Query the top 10 rows from the Delta table using the temporary view\n",
    "display(spark.sql(\"SELECT * FROM flights_data LIMIT 10\"))"
   ]
  },
  {
   "cell_type": "markdown",
   "metadata": {
    "application/vnd.databricks.v1+cell": {
     "cellMetadata": {},
     "inputWidgets": {},
     "nuid": "98dbb06f-ca83-425a-bc2e-a1e1c9b60a66",
     "showTitle": false,
     "title": ""
    }
   },
   "source": [
    "# Capabilities of Delta Lake"
   ]
  },
  {
   "cell_type": "markdown",
   "metadata": {
    "application/vnd.databricks.v1+cell": {
     "cellMetadata": {},
     "inputWidgets": {},
     "nuid": "5732009b-e780-47f3-a5cf-d9305782fa49",
     "showTitle": false,
     "title": ""
    }
   },
   "source": [
    "## 1. Schema Enforcement"
   ]
  },
  {
   "cell_type": "markdown",
   "metadata": {
    "application/vnd.databricks.v1+cell": {
     "cellMetadata": {},
     "inputWidgets": {},
     "nuid": "ba447c06-48b8-4a54-8d25-814318016045",
     "showTitle": false,
     "title": ""
    }
   },
   "source": [
    "Initially, data is written with a certain schema. Later, a new column is added, and Delta Lake supports this schema evolution by merging the new schema with the existing one without any data loss or corruption."
   ]
  },
  {
   "cell_type": "code",
   "execution_count": 0,
   "metadata": {
    "application/vnd.databricks.v1+cell": {
     "cellMetadata": {
      "byteLimit": 2048000,
      "rowLimit": 10000
     },
     "inputWidgets": {},
     "nuid": "e498ee82-3396-439b-acad-effc45a60be3",
     "showTitle": false,
     "title": ""
    }
   },
   "outputs": [
    {
     "output_type": "stream",
     "name": "stdout",
     "output_type": "stream",
     "text": [
      "+--------+-----+--------+------+-----------+-------------+\n|    date|delay|distance|origin|destination|   new_column|\n+--------+-----+--------+------+-----------+-------------+\n|03131005|   -3|     618|   MDW|        EWR|default_value|\n|03132055|   25|     748|   MDW|        BOS|default_value|\n|03131710|   13|     501|   MDW|        IAD|default_value|\n|03130720|   -5|     218|   MDW|        STL|default_value|\n|03131445|   12|     778|   MDW|        DEN|default_value|\n|03131940|    3|    1014|   MDW|        FLL|default_value|\n|03131525|    8|     405|   MDW|        BKG|default_value|\n|03132055|   27|     623|   MDW|        ALB|default_value|\n|03131320|   33|     266|   MDW|        CLE|default_value|\n|03131115|   -1|     352|   MDW|        MCI|default_value|\n|03130755|    9|     866|   MDW|        TPA|default_value|\n|03131405|    0|     495|   MDW|        BHM|default_value|\n|03132100|   48|     218|   MDW|        STL|default_value|\n|03131650|   23|     647|   MDW|        CHS|default_value|\n|03131920|   33|     814|   MDW|        HOU|default_value|\n|03131455|   67|    1255|   MDW|        PHX|default_value|\n|03131155|   43|     531|   MDW|        BWI|default_value|\n|03131220|  109|     618|   MDW|        EWR|default_value|\n|03131140|   43|     198|   MDW|        DTW|default_value|\n|03131830|   51|     900|   MDW|        SAT|default_value|\n+--------+-----+--------+------+-----------+-------------+\nonly showing top 20 rows\n\n"
     ]
    }
   ],
   "source": [
    "from pyspark.sql.functions import lit\n",
    "\n",
    "df = spark.sql(\"SELECT * FROM flights_data\")\n",
    "\n",
    "# Add a new column and write (schema evolution)\n",
    "df_with_new_column = df.withColumn(\"new_column\", lit(\"default_value\"))\n",
    "df_with_new_column.write.format(\"delta\").mode(\"append\").option(\"mergeSchema\", \"true\").save(\"/delta/my_table\")\n",
    "df_with_new_column.show()"
   ]
  },
  {
   "cell_type": "markdown",
   "metadata": {
    "application/vnd.databricks.v1+cell": {
     "cellMetadata": {},
     "inputWidgets": {},
     "nuid": "7ebf71ab-a026-441a-b71b-0204ae005089",
     "showTitle": false,
     "title": ""
    }
   },
   "source": [
    "## 2. Time Travel (Data Versioning)"
   ]
  },
  {
   "cell_type": "markdown",
   "metadata": {
    "application/vnd.databricks.v1+cell": {
     "cellMetadata": {},
     "inputWidgets": {},
     "nuid": "aaa00af2-e70b-4d9b-975f-5f9c8280a8e2",
     "showTitle": false,
     "title": ""
    }
   },
   "source": [
    "Delta Lake also allows us to access historical data by specifying a version number or a timestamp. This is useful for auditing, rollbacks, and reproducing results."
   ]
  },
  {
   "cell_type": "code",
   "execution_count": 0,
   "metadata": {
    "application/vnd.databricks.v1+cell": {
     "cellMetadata": {
      "byteLimit": 2048000,
      "rowLimit": 10000
     },
     "inputWidgets": {},
     "nuid": "697fa174-4479-4bcb-b1a4-b2c0227fc90a",
     "showTitle": false,
     "title": ""
    }
   },
   "outputs": [
    {
     "output_type": "stream",
     "name": "stdout",
     "output_type": "stream",
     "text": [
      "+------+-------------+\n|origin|average_delay|\n+------+-------------+\n|   MSY|        13.18|\n|   SNA|        11.51|\n|   PSG|        -0.25|\n|   MYR|         7.65|\n|   PVD|        10.41|\n|   OAK|        13.88|\n|   MQT|        23.87|\n|   MSN|         8.66|\n|   SCC|          1.6|\n|   MLU|         7.91|\n|   WRG|         -2.5|\n|   LEX|        13.87|\n|   RDM|         4.27|\n|   ORF|        10.36|\n|   SCE|        17.92|\n|   SAV|        10.41|\n|   TRI|         6.67|\n|   MOD|         9.93|\n|   TYR|         3.57|\n|   MOB|        11.26|\n+------+-------------+\nonly showing top 20 rows\n\n+------+-------------+\n|origin|average_delay|\n+------+-------------+\n|   GEG|         3.99|\n|   BUR|         9.59|\n|   GRB|         9.47|\n|   GTF|          2.1|\n|   IDA|         3.57|\n|   GRR|        13.42|\n|   EUG|        11.74|\n|   GSO|        15.86|\n|   BTM|        -0.77|\n|   COD|         2.37|\n|   FAR|        17.57|\n|   FSM|          4.0|\n|   DCA|         8.49|\n|   CID|        16.12|\n|   GTR|        14.06|\n|   HLN|        -1.42|\n|   EVV|        10.99|\n|   KTN|         3.81|\n|   CRW|         10.8|\n|   CDV|        -5.75|\n+------+-------------+\nonly showing top 20 rows\n\n"
     ]
    }
   ],
   "source": [
    "# Accessing a specific version of the data\n",
    "df_version = spark.read.format(\"delta\").option(\"versionAsOf\", 1).load(\"/delta/flights_data\")\n",
    "df_version.show()\n",
    "\n",
    "# Accessing data as of a specific timestamp\n",
    "df_timestamp = spark.read.format(\"delta\").option(\"timestampAsOf\", \"2023-11-29 23:00:25\").load(\"/delta/flights_data\")\n",
    "df_timestamp.show()"
   ]
  },
  {
   "cell_type": "markdown",
   "metadata": {
    "application/vnd.databricks.v1+cell": {
     "cellMetadata": {},
     "inputWidgets": {},
     "nuid": "f05e83ee-4844-467a-963b-1b305ead6e03",
     "showTitle": false,
     "title": ""
    }
   },
   "source": [
    "## 3. Metadata"
   ]
  },
  {
   "cell_type": "markdown",
   "metadata": {
    "application/vnd.databricks.v1+cell": {
     "cellMetadata": {},
     "inputWidgets": {},
     "nuid": "9de039b5-a6c2-4192-96e0-3e5186f79bd0",
     "showTitle": false,
     "title": ""
    }
   },
   "source": [
    "Delta Lake stores metadata about each Delta table, which includes information about the schema, partitioning, and table history. To explore and use this metadata, we can utilize Delta Lake's built-in functions. "
   ]
  },
  {
   "cell_type": "code",
   "execution_count": 0,
   "metadata": {
    "application/vnd.databricks.v1+cell": {
     "cellMetadata": {
      "byteLimit": 2048000,
      "rowLimit": 10000
     },
     "inputWidgets": {},
     "nuid": "7ab62623-2a71-426e-bcae-1446612c7596",
     "showTitle": false,
     "title": ""
    }
   },
   "outputs": [],
   "source": [
    "from delta.tables import DeltaTable"
   ]
  },
  {
   "cell_type": "code",
   "execution_count": 0,
   "metadata": {
    "application/vnd.databricks.v1+cell": {
     "cellMetadata": {
      "byteLimit": 2048000,
      "rowLimit": 10000
     },
     "inputWidgets": {},
     "nuid": "aa5981b5-239f-42b6-98f0-d7fbfa6bbb08",
     "showTitle": false,
     "title": ""
    }
   },
   "outputs": [
    {
     "output_type": "stream",
     "name": "stdout",
     "output_type": "stream",
     "text": [
      "+-------+-------------------+----------------+--------------+---------+------------------------------------------------------------+----+------------------+--------------------+-----------+-----------------+-------------+--------------------------------------------------------------------+------------+------------------------------------------+\n|version|timestamp          |userId          |userName      |operation|operationParameters                                         |job |notebook          |clusterId           |readVersion|isolationLevel   |isBlindAppend|operationMetrics                                                    |userMetadata|engineInfo                                |\n+-------+-------------------+----------------+--------------+---------+------------------------------------------------------------+----+------------------+--------------------+-----------+-----------------+-------------+--------------------------------------------------------------------+------------+------------------------------------------+\n|6      |2023-11-30 16:42:18|7151834195916352|ga137@duke.edu|WRITE    |{mode -> Overwrite, statsOnLoad -> false, partitionBy -> []}|NULL|{366102512829727} |1127-144815-pdd137i5|5          |WriteSerializable|false        |{numFiles -> 7, numOutputRows -> 1392106, numOutputBytes -> 6758641}|NULL        |Databricks-Runtime/13.3.x-photon-scala2.12|\n|5      |2023-11-30 16:41:00|7151834195916352|ga137@duke.edu|WRITE    |{mode -> Overwrite, statsOnLoad -> false, partitionBy -> []}|NULL|{366102512829727} |1127-144815-pdd137i5|4          |WriteSerializable|false        |{numFiles -> 7, numOutputRows -> 1392106, numOutputBytes -> 6758641}|NULL        |Databricks-Runtime/13.3.x-photon-scala2.12|\n|4      |2023-11-30 16:40:43|7151834195916352|ga137@duke.edu|WRITE    |{mode -> Overwrite, statsOnLoad -> false, partitionBy -> []}|NULL|{366102512829727} |1127-144815-pdd137i5|3          |WriteSerializable|false        |{numFiles -> 7, numOutputRows -> 1392106, numOutputBytes -> 6758641}|NULL        |Databricks-Runtime/13.3.x-photon-scala2.12|\n|3      |2023-11-30 16:01:01|7151834195916352|ga137@duke.edu|WRITE    |{mode -> Overwrite, statsOnLoad -> false, partitionBy -> []}|NULL|{2061614307908285}|1127-144815-pdd137i5|2          |WriteSerializable|false        |{numFiles -> 1, numOutputRows -> 251, numOutputBytes -> 3161}       |NULL        |Databricks-Runtime/13.3.x-photon-scala2.12|\n|2      |2023-11-29 22:51:03|7151834195916352|ga137@duke.edu|WRITE    |{mode -> Overwrite, statsOnLoad -> false, partitionBy -> []}|NULL|{2061614307908285}|1127-144815-pdd137i5|1          |WriteSerializable|false        |{numFiles -> 1, numOutputRows -> 251, numOutputBytes -> 3142}       |NULL        |Databricks-Runtime/13.3.x-photon-scala2.12|\n|1      |2023-11-29 22:50:41|7151834195916352|ga137@duke.edu|WRITE    |{mode -> Overwrite, statsOnLoad -> false, partitionBy -> []}|NULL|{2061614307908285}|1127-144815-pdd137i5|0          |WriteSerializable|false        |{numFiles -> 1, numOutputRows -> 251, numOutputBytes -> 3161}       |NULL        |Databricks-Runtime/13.3.x-photon-scala2.12|\n|0      |2023-11-29 20:32:10|7151834195916352|ga137@duke.edu|WRITE    |{mode -> Overwrite, statsOnLoad -> false, partitionBy -> []}|NULL|{2061614307908285}|1127-144815-pdd137i5|NULL       |WriteSerializable|false        |{numFiles -> 1, numOutputRows -> 251, numOutputBytes -> 3142}       |NULL        |Databricks-Runtime/13.3.x-photon-scala2.12|\n+-------+-------------------+----------------+--------------+---------+------------------------------------------------------------+----+------------------+--------------------+-----------+-----------------+-------------+--------------------------------------------------------------------+------------+------------------------------------------+\n\n1\n None\n2\n StructType([StructField('date', StringType(), True), StructField('delay', StringType(), True), StructField('distance', StringType(), True), StructField('origin', StringType(), True), StructField('destination', StringType(), True)])\n+-------+----------------------------------------------------+------------------------------------------------------------+-------------------------------------------------------------------------------------------------------------------------------------------------------------------------------------------------------+-------+-----------+\n|summary|date                                                |delay                                                       |distance                                                                                                                                                                                               |origin |destination|\n+-------+----------------------------------------------------+------------------------------------------------------------+-------------------------------------------------------------------------------------------------------------------------------------------------------------------------------------------------------+-------+-----------+\n|count  |1392106                                             |1391580                                                     |1391579                                                                                                                                                                                                |1391578|1391578    |\n|mean   |2180446.584000322                                   |12.079802928761449                                          |690.5508264718184                                                                                                                                                                                      |NULL   |NULL       |\n|stddev |838031.1536740942                                   |38.807733749856446                                          |513.6628153663231                                                                                                                                                                                      |NULL   |NULL       |\n|min    |\"Cap-aux-Meules, Magdalens Islands\"\\tPQ\\tCanada\\tYGR| airline and route data](http://openflights.org/data.html). | dataset can be found at [Airline On-Time Performance and Causes of Flight Delays: On_Time Data](https://catalog.data.gov/dataset/airline-on-time-performance-and-causes-of-flight-delays-on-time-data)|ABE    |ABE        |\n|max    |Yuma\\tAZ\\tUSA\\tYUM                                  |995                                                         |999                                                                                                                                                                                                    |YUM    |YUM        |\n+-------+----------------------------------------------------+------------------------------------------------------------+-------------------------------------------------------------------------------------------------------------------------------------------------------------------------------------------------------+-------+-----------+\n\n3\n None\n"
     ]
    }
   ],
   "source": [
    "# Load the Delta table\n",
    "deltaTable = DeltaTable.forPath(spark, \"/delta/flights_data\")\n",
    "\n",
    "# View history of the Delta table\n",
    "print(\"1\\n\",deltaTable.history().show(truncate=False))\n",
    "# Get the schema of the Delta table\n",
    "print(\"2\\n\",deltaTable.toDF().schema)\n",
    "# Accessing Delta table metadata (partitioning and properties)\n",
    "print(\"3\\n\",deltaTable.toDF().describe().show(truncate=False))"
   ]
  }
 ],
 "metadata": {
  "application/vnd.databricks.v1+notebook": {
   "dashboards": [],
   "language": "python",
   "notebookMetadata": {
    "pythonIndentUnit": 4
   },
   "notebookName": "Extract",
   "widgets": {}
  }
 },
 "nbformat": 4,
 "nbformat_minor": 0
}
