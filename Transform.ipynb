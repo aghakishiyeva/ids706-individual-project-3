{
 "cells": [
  {
   "cell_type": "markdown",
   "metadata": {
    "application/vnd.databricks.v1+cell": {
     "cellMetadata": {},
     "inputWidgets": {},
     "nuid": "34f3119b-5d98-45a2-a80b-94d02f93b35b",
     "showTitle": false,
     "title": ""
    }
   },
   "source": [
    "# Transform"
   ]
  },
  {
   "cell_type": "code",
   "execution_count": 0,
   "metadata": {
    "application/vnd.databricks.v1+cell": {
     "cellMetadata": {
      "byteLimit": 2048000,
      "rowLimit": 10000
     },
     "inputWidgets": {},
     "nuid": "0e8ca090-13ba-4ab8-9162-ed34724b13e3",
     "showTitle": false,
     "title": ""
    }
   },
   "outputs": [],
   "source": [
    "from pyspark.sql import SparkSession\n",
    "\n",
    "# Define the Delta table path (same as used in the extract notebook)\n",
    "delta_table_path = \"/delta/flights_data\"\n",
    "\n",
    "# Read the Delta table\n",
    "df = spark.read.format(\"delta\").load(delta_table_path)"
   ]
  },
  {
   "cell_type": "code",
   "execution_count": 0,
   "metadata": {
    "application/vnd.databricks.v1+cell": {
     "cellMetadata": {
      "byteLimit": 2048000,
      "rowLimit": 10000
     },
     "inputWidgets": {},
     "nuid": "1bd4fe57-4fcd-49dd-9c15-c441bfb4e30e",
     "showTitle": false,
     "title": ""
    }
   },
   "outputs": [],
   "source": [
    "from pyspark.sql import functions as F"
   ]
  },
  {
   "cell_type": "code",
   "execution_count": 0,
   "metadata": {
    "application/vnd.databricks.v1+cell": {
     "cellMetadata": {
      "byteLimit": 2048000,
      "rowLimit": 10000
     },
     "inputWidgets": {},
     "nuid": "1f159b0d-b9e5-4c64-9289-47e00ff95895",
     "showTitle": false,
     "title": ""
    }
   },
   "outputs": [
    {
     "output_type": "stream",
     "name": "stdout",
     "output_type": "stream",
     "text": [
      "+------+-------------+\n|origin|average_delay|\n+------+-------------+\n|   MSY|        13.18|\n|   SNA|        11.51|\n|   PSG|        -0.25|\n|   MYR|         7.65|\n|   PVD|        10.41|\n|   OAK|        13.88|\n|   MQT|        23.87|\n|   MSN|         8.66|\n|   BTM|        -0.77|\n|   SCC|          1.6|\n|   MLU|         7.91|\n|   WRG|         -2.5|\n|   RDM|         4.27|\n|   ORF|        10.36|\n|   SCE|        17.92|\n|   SAV|        10.41|\n|   TRI|         6.67|\n|   MOD|         9.93|\n|   TYR|         3.57|\n|   MOB|        11.26|\n+------+-------------+\nonly showing top 20 rows\n\n"
     ]
    }
   ],
   "source": [
    "less_than_500_miles = df.filter(df[\"distance\"] < 500)\n",
    "avg_delay_less_than_500 = less_than_500_miles.groupBy(\"origin\").agg(F.round(F.avg(\"delay\"), 2).alias(\"average_delay\"))\n",
    "avg_delay_less_than_500.show()"
   ]
  },
  {
   "cell_type": "markdown",
   "metadata": {
    "application/vnd.databricks.v1+cell": {
     "cellMetadata": {},
     "inputWidgets": {},
     "nuid": "cc785380-8fcb-47d6-8e68-43bb27dd262e",
     "showTitle": false,
     "title": ""
    }
   },
   "source": [
    "# Data Validation Checks"
   ]
  },
  {
   "cell_type": "code",
   "execution_count": 0,
   "metadata": {
    "application/vnd.databricks.v1+cell": {
     "cellMetadata": {
      "byteLimit": 2048000,
      "rowLimit": 10000
     },
     "inputWidgets": {},
     "nuid": "5fd96eb9-e104-421d-917f-569b03ceba69",
     "showTitle": false,
     "title": ""
    }
   },
   "outputs": [],
   "source": [
    "# Check for null values in 'origin' column\n",
    "assert avg_delay_less_than_500.filter(avg_delay_less_than_500['origin'].isNull()).count() == 0, \"Null values found in 'origin' column\"\n",
    "\n",
    "# Check for null values in 'average_delay' column\n",
    "assert avg_delay_less_than_500.filter(avg_delay_less_than_500['average_delay'].isNull()).count() == 0, \"Null values found in 'average_delay' column\""
   ]
  },
  {
   "cell_type": "code",
   "execution_count": 0,
   "metadata": {
    "application/vnd.databricks.v1+cell": {
     "cellMetadata": {
      "byteLimit": 2048000,
      "rowLimit": 10000
     },
     "inputWidgets": {},
     "nuid": "1b1e0c5f-1e6b-4978-a80a-6764490c5e2b",
     "showTitle": false,
     "title": ""
    }
   },
   "outputs": [],
   "source": [
    "# Check that the DataFrame is not empty\n",
    "assert avg_delay_less_than_500.count() > 0, \"The DataFrame is empty\"\n",
    "\n",
    "# Optionally, check for a minimum expected number of rows\n",
    "min_expected_rows = 10  # replace with your expected minimum\n",
    "assert avg_delay_less_than_500.count() >= min_expected_rows, f\"The DataFrame contains fewer than {min_expected_rows} rows\""
   ]
  },
  {
   "cell_type": "code",
   "execution_count": 0,
   "metadata": {
    "application/vnd.databricks.v1+cell": {
     "cellMetadata": {
      "byteLimit": 2048000,
      "rowLimit": 10000
     },
     "inputWidgets": {},
     "nuid": "80dcfc02-9086-4bd4-afbc-7e81c76c3d07",
     "showTitle": false,
     "title": ""
    }
   },
   "outputs": [],
   "source": [
    "# Check for duplicate 'origin' values\n",
    "assert avg_delay_less_than_500.count() == avg_delay_less_than_500.select('origin').distinct().count(), \"Duplicate 'origin' values found\""
   ]
  },
  {
   "cell_type": "markdown",
   "metadata": {
    "application/vnd.databricks.v1+cell": {
     "cellMetadata": {},
     "inputWidgets": {},
     "nuid": "fe261b2f-7c80-4f27-aad6-6030bba105e5",
     "showTitle": false,
     "title": ""
    }
   },
   "source": [
    "# Data Visualization"
   ]
  },
  {
   "cell_type": "code",
   "execution_count": 0,
   "metadata": {
    "application/vnd.databricks.v1+cell": {
     "cellMetadata": {
      "byteLimit": 2048000,
      "rowLimit": 10000
     },
     "inputWidgets": {},
     "nuid": "4306c5d0-e989-41c7-b500-f4983605028d",
     "showTitle": false,
     "title": ""
    }
   },
   "outputs": [],
   "source": [
    "import matplotlib.pyplot as plt\n",
    "import seaborn as sns\n",
    "import pandas as pd"
   ]
  },
  {
   "cell_type": "code",
   "execution_count": 0,
   "metadata": {
    "application/vnd.databricks.v1+cell": {
     "cellMetadata": {
      "byteLimit": 2048000,
      "rowLimit": 10000
     },
     "inputWidgets": {},
     "nuid": "6d37322d-e889-48d1-9210-8a990a4f084b",
     "showTitle": false,
     "title": ""
    }
   },
   "outputs": [
    {
     "output_type": "stream",
     "name": "stdout",
     "output_type": "stream",
     "text": [
      "+------+-------------+\n|origin|average_delay|\n+------+-------------+\n|   MSY|        13.18|\n|   SNA|        11.51|\n|   PSG|        -0.25|\n|   MYR|         7.65|\n|   PVD|        10.41|\n|   OAK|        13.88|\n|   MQT|        23.87|\n|   MSN|         8.66|\n|   BTM|        -0.77|\n|   SCC|          1.6|\n|   MLU|         7.91|\n|   WRG|         -2.5|\n|   RDM|         4.27|\n|   ORF|        10.36|\n|   SCE|        17.92|\n|   SAV|        10.41|\n|   TRI|         6.67|\n|   MOD|         9.93|\n|   TYR|         3.57|\n|   MOB|        11.26|\n+------+-------------+\nonly showing top 20 rows\n\n"
     ]
    }
   ],
   "source": [
    "avg_delay_less_than_500.show()"
   ]
  },
  {
   "cell_type": "code",
   "execution_count": 0,
   "metadata": {
    "application/vnd.databricks.v1+cell": {
     "cellMetadata": {
      "byteLimit": 2048000,
      "rowLimit": 10000
     },
     "inputWidgets": {},
     "nuid": "db240ec9-9471-4190-b06c-60b9adb12a00",
     "showTitle": false,
     "title": ""
    }
   },
   "outputs": [
    {
     "output_type": "stream",
     "name": "stdout",
     "output_type": "stream",
     "text": [
      "+------+-------------+\n|origin|average_delay|\n+------+-------------+\n|   EGE|         71.0|\n|   LSE|        26.53|\n|   MQT|        23.87|\n|   IAD|        21.09|\n|   ROA|        19.89|\n|   SYR|        19.05|\n|   ORD|        18.72|\n|   FLL|        18.15|\n|   MDW|        18.07|\n|   SCE|        17.92|\n|   DSM|         17.9|\n|   DEN|        17.78|\n|   FAR|        17.57|\n|   ALO|        17.16|\n|   LNK|        17.02|\n|   BWI|        16.73|\n|   BGR|        16.51|\n|   MLI|        16.27|\n|   PIA|        16.25|\n|   LAN|        16.15|\n+------+-------------+\n\n"
     ]
    }
   ],
   "source": [
    "# Sort the DataFrame\n",
    "sorted_df = avg_delay_less_than_500.orderBy(\"average_delay\", ascending=False) \n",
    "\n",
    "# Take the first 20 rows\n",
    "top_20_rows = sorted_df.limit(20)\n",
    "\n",
    "# Show the result\n",
    "top_20_rows.show()"
   ]
  },
  {
   "cell_type": "code",
   "execution_count": 0,
   "metadata": {
    "application/vnd.databricks.v1+cell": {
     "cellMetadata": {
      "byteLimit": 2048000,
      "rowLimit": 10000
     },
     "inputWidgets": {},
     "nuid": "738d3ebd-7c84-47c6-a333-cebb599eb595",
     "showTitle": false,
     "title": ""
    }
   },
   "outputs": [],
   "source": [
    "data_to_visualize = top_20_rows.toPandas()"
   ]
  },
  {
   "cell_type": "code",
   "execution_count": 0,
   "metadata": {
    "application/vnd.databricks.v1+cell": {
     "cellMetadata": {
      "byteLimit": 2048000,
      "rowLimit": 10000
     },
     "inputWidgets": {},
     "nuid": "ecf48ff0-570c-4253-9b18-8b7031ed8c2c",
     "showTitle": false,
     "title": ""
    }
   },
   "outputs": [
    {
     "output_type": "display_data",
     "data": {
      "image/png": "[encoded data removed]",
      "text/plain": [
       "<Figure size 1500x600 with 1 Axes>"
      ]
     },
     "metadata": {},
     "output_type": "display_data"
    }
   ],
   "source": [
    "f, ax = plt.subplots(figsize=(15, 6))\n",
    "\n",
    "sns.barplot(x=\"average_delay\", y=\"origin\", data = data_to_visualize, palette=\"vlag\")\n",
    "ax.set_xlabel('Average Delay')\n",
    "ax.set_ylabel('Airport Origin')\n",
    "ax.set_title('Average Flight Delays by Origin')\n",
    "sns.despine(left=True, bottom=True)\n",
    "\n",
    "plt.show()"
   ]
  },
  {
   "cell_type": "markdown",
   "metadata": {
    "application/vnd.databricks.v1+cell": {
     "cellMetadata": {},
     "inputWidgets": {},
     "nuid": "73648b44-428d-4c85-bb0d-a6fdf4dc7b80",
     "showTitle": false,
     "title": ""
    }
   },
   "source": [
    "<b>In this analysis, we have identified the top 20 flight routes under 500 miles experiencing the highest average delays. To enhance operational efficiency and customer satisfaction, it is crucial to implement strategic measures aimed at minimizing these delays."
   ]
  },
  {
   "cell_type": "code",
   "execution_count": 0,
   "metadata": {
    "application/vnd.databricks.v1+cell": {
     "cellMetadata": {
      "byteLimit": 2048000,
      "rowLimit": 10000
     },
     "inputWidgets": {},
     "nuid": "0d085616-f348-418e-95af-c7b59d4575be",
     "showTitle": false,
     "title": ""
    }
   },
   "outputs": [],
   "source": [
    "final_spark_df = spark.createDataFrame(data_to_visualize)"
   ]
  },
  {
   "cell_type": "code",
   "execution_count": 0,
   "metadata": {
    "application/vnd.databricks.v1+cell": {
     "cellMetadata": {
      "byteLimit": 2048000,
      "rowLimit": 10000
     },
     "inputWidgets": {},
     "nuid": "59c50998-16bf-4ca0-8d55-3ccdf70b3822",
     "showTitle": false,
     "title": ""
    }
   },
   "outputs": [
    {
     "output_type": "stream",
     "name": "stdout",
     "output_type": "stream",
     "text": [
      "+------+-------------+\n|origin|average_delay|\n+------+-------------+\n|   EGE|         71.0|\n|   LSE|        26.53|\n|   MQT|        23.87|\n|   IAD|        21.09|\n|   ROA|        19.89|\n|   SYR|        19.05|\n|   ORD|        18.72|\n|   FLL|        18.15|\n|   MDW|        18.07|\n|   SCE|        17.92|\n|   DSM|         17.9|\n|   DEN|        17.78|\n|   FAR|        17.57|\n|   ALO|        17.16|\n|   LNK|        17.02|\n|   BWI|        16.73|\n|   BGR|        16.51|\n|   MLI|        16.27|\n|   PIA|        16.25|\n|   LAN|        16.15|\n+------+-------------+\n\n"
     ]
    }
   ],
   "source": [
    "final_spark_df.show()"
   ]
  }
 ],
 "metadata": {
  "application/vnd.databricks.v1+notebook": {
   "dashboards": [],
   "language": "python",
   "notebookMetadata": {
    "pythonIndentUnit": 4
   },
   "notebookName": "Transform",
   "widgets": {}
  }
 },
 "nbformat": 4,
 "nbformat_minor": 0
}
