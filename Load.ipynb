{
 "cells": [
  {
   "cell_type": "code",
   "execution_count": 0,
   "metadata": {
    "application/vnd.databricks.v1+cell": {
     "cellMetadata": {
      "byteLimit": 2048000,
      "rowLimit": 10000
     },
     "collapsed": true,
     "inputWidgets": {},
     "nuid": "4386a2b4-13ab-4e16-b38f-40793109d3ed",
     "showTitle": false,
     "title": ""
    }
   },
   "outputs": [
    {
     "output_type": "stream",
     "name": "stdout",
     "output_type": "stream",
     "text": [
      "+------+-------------+\n|origin|average_delay|\n+------+-------------+\n|   MSY|        13.18|\n|   SNA|        11.51|\n|   PSG|        -0.25|\n|   MYR|         7.65|\n|   PVD|        10.41|\n|   OAK|        13.88|\n|   MQT|        23.87|\n|   MSN|         8.66|\n|   BTM|        -0.77|\n|   SCC|          1.6|\n|   MLU|         7.91|\n|   WRG|         -2.5|\n|   RDM|         4.27|\n|   ORF|        10.36|\n|   SCE|        17.92|\n|   SAV|        10.41|\n|   TRI|         6.67|\n|   MOD|         9.93|\n|   TYR|         3.57|\n|   MOB|        11.26|\n+------+-------------+\nonly showing top 20 rows\n\n"
     ]
    }
   ],
   "source": [
    "%run \"/Users/ga137@duke.edu/Individual Project/Transform\""
   ]
  },
  {
   "cell_type": "markdown",
   "metadata": {
    "application/vnd.databricks.v1+cell": {
     "cellMetadata": {},
     "inputWidgets": {},
     "nuid": "864ab4ea-2f69-4cc1-a4a0-5d1b10806e64",
     "showTitle": false,
     "title": ""
    }
   },
   "source": [
    "# Load to Delta Lake"
   ]
  },
  {
   "cell_type": "code",
   "execution_count": 0,
   "metadata": {
    "application/vnd.databricks.v1+cell": {
     "cellMetadata": {},
     "inputWidgets": {},
     "nuid": "be149604-ca6a-4152-b2da-5e6c5f5816ee",
     "showTitle": false,
     "title": ""
    }
   },
   "outputs": [],
   "source": [
    "# Define the location for the Delta table\n",
    "delta_sink_path = \"/delta/final_spark_df\"\n",
    "\n",
    "# Write the DataFrame to Delta format\n",
    "final_spark_df.write.format(\"delta\") \\\n",
    "    .mode(\"overwrite\") \\\n",
    "    .option(\"overwriteSchema\", \"true\") \\\n",
    "    .save(delta_sink_path)"
   ]
  },
  {
   "cell_type": "markdown",
   "metadata": {
    "application/vnd.databricks.v1+cell": {
     "cellMetadata": {},
     "inputWidgets": {},
     "nuid": "a0c6d156-0a3a-4672-b4a0-0a4ade916a61",
     "showTitle": false,
     "title": ""
    }
   },
   "source": [
    "## Check if it's written"
   ]
  },
  {
   "cell_type": "code",
   "execution_count": 0,
   "metadata": {
    "application/vnd.databricks.v1+cell": {
     "cellMetadata": {
      "byteLimit": 2048000,
      "rowLimit": 10000
     },
     "inputWidgets": {},
     "nuid": "1da48068-e991-483f-878b-a30f4fbbdfca",
     "showTitle": false,
     "title": ""
    }
   },
   "outputs": [
    {
     "output_type": "stream",
     "name": "stdout",
     "output_type": "stream",
     "text": [
      "+------+-------------+\n|origin|average_delay|\n+------+-------------+\n|   EGE|         71.0|\n|   LSE|        26.53|\n|   MQT|        23.87|\n|   IAD|        21.09|\n|   ROA|        19.89|\n|   SYR|        19.05|\n|   ORD|        18.72|\n|   FLL|        18.15|\n|   MDW|        18.07|\n|   SCE|        17.92|\n|   DSM|         17.9|\n|   DEN|        17.78|\n|   FAR|        17.57|\n|   ALO|        17.16|\n|   LNK|        17.02|\n|   BWI|        16.73|\n|   BGR|        16.51|\n|   MLI|        16.27|\n|   PIA|        16.25|\n|   LAN|        16.15|\n+------+-------------+\n\n"
     ]
    }
   ],
   "source": [
    "# Define the Delta table path\n",
    "delta_source_path = \"/delta/final_spark_df\"\n",
    "\n",
    "# Read the Delta table\n",
    "df = spark.read.format(\"delta\").load(delta_source_path)\n",
    "\n",
    "# Show the first few rows of the DataFrame\n",
    "df.show()"
   ]
  }
 ],
 "metadata": {
  "application/vnd.databricks.v1+notebook": {
   "dashboards": [],
   "language": "python",
   "notebookMetadata": {
    "pythonIndentUnit": 4
   },
   "notebookName": "Load",
   "widgets": {}
  }
 },
 "nbformat": 4,
 "nbformat_minor": 0
}
